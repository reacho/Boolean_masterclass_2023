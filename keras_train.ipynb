{
 "cells": [
  {
   "cell_type": "code",
   "execution_count": 1,
   "metadata": {},
   "outputs": [
    {
     "name": "stdout",
     "output_type": "stream",
     "text": [
      "x_train shape: (60000, 28, 28, 1)\n",
      "60000 train samples\n",
      "10000 test samples\n"
     ]
    }
   ],
   "source": [
    "\"\"\"\n",
    "Parte del codice è tratto dal seguente sito:\n",
    "https://keras.io/examples/vision/mnist_convnet/\n",
    "\"\"\"\n",
    "\n",
    "import numpy as np\n",
    "from tensorflow import keras\n",
    "from tensorflow.keras import layers\n",
    "\n",
    "from PIL import Image\n",
    "\n",
    "\n",
    "# Model / data parameters\n",
    "num_classes = 10\n",
    "input_shape = (28, 28, 1)\n",
    "\n",
    "# Load the data and split it between train and test sets\n",
    "(x_train, y_train), (x_test, y_test) = keras.datasets.mnist.load_data()\n",
    "\n",
    "# Scale images to the [0, 1] range\n",
    "x_train = x_train.astype(\"float32\") / 255\n",
    "x_test = x_test.astype(\"float32\") / 255\n",
    "# Make sure images have shape (28, 28, 1)\n",
    "x_train = np.expand_dims(x_train, -1)\n",
    "x_test = np.expand_dims(x_test, -1)\n",
    "print(\"x_train shape:\", x_train.shape)\n",
    "print(x_train.shape[0], \"train samples\")\n",
    "print(x_test.shape[0], \"test samples\")\n",
    "\n",
    "\n",
    "# convert class vectors to binary class matrices\n",
    "y_train = keras.utils.to_categorical(y_train, num_classes)\n",
    "y_test = keras.utils.to_categorical(y_test, num_classes)"
   ]
  },
  {
   "cell_type": "code",
   "execution_count": 2,
   "metadata": {
    "scrolled": true
   },
   "outputs": [
    {
     "name": "stdout",
     "output_type": "stream",
     "text": [
      "Model: \"sequential\"\n",
      "_________________________________________________________________\n",
      " Layer (type)                Output Shape              Param #   \n",
      "=================================================================\n",
      " conv2d (Conv2D)             (None, 26, 26, 32)        320       \n",
      "                                                                 \n",
      " max_pooling2d (MaxPooling2D  (None, 13, 13, 32)       0         \n",
      " )                                                               \n",
      "                                                                 \n",
      " conv2d_1 (Conv2D)           (None, 11, 11, 64)        18496     \n",
      "                                                                 \n",
      " max_pooling2d_1 (MaxPooling  (None, 5, 5, 64)         0         \n",
      " 2D)                                                             \n",
      "                                                                 \n",
      " flatten (Flatten)           (None, 1600)              0         \n",
      "                                                                 \n",
      " dropout (Dropout)           (None, 1600)              0         \n",
      "                                                                 \n",
      " dense (Dense)               (None, 10)                16010     \n",
      "                                                                 \n",
      "=================================================================\n",
      "Total params: 34,826\n",
      "Trainable params: 34,826\n",
      "Non-trainable params: 0\n",
      "_________________________________________________________________\n"
     ]
    }
   ],
   "source": [
    "# Definisci il modello\n",
    "model = keras.Sequential(\n",
    "    [\n",
    "        keras.Input(shape=input_shape),\n",
    "        layers.Conv2D(32, kernel_size=(3, 3), activation=\"relu\"),\n",
    "        layers.MaxPooling2D(pool_size=(2, 2)),\n",
    "        layers.Conv2D(64, kernel_size=(3, 3), activation=\"relu\"),\n",
    "        layers.MaxPooling2D(pool_size=(2, 2)),\n",
    "        layers.Flatten(),\n",
    "        layers.Dropout(0.1),\n",
    "        layers.Dense(num_classes, activation=\"softmax\"),\n",
    "    ]\n",
    ")\n",
    "\n",
    "model.summary()"
   ]
  },
  {
   "cell_type": "code",
   "execution_count": 3,
   "metadata": {},
   "outputs": [],
   "source": [
    "batch_size = 128\n",
    "epochs = 5\n",
    "\n",
    "# Per la scelta della loss function, vedi https://keras.io/api/losses/\n",
    "model.compile(loss=\"categorical_crossentropy\", optimizer=\"adam\", metrics=[\"accuracy\"])"
   ]
  },
  {
   "cell_type": "code",
   "execution_count": 4,
   "metadata": {},
   "outputs": [
    {
     "name": "stdout",
     "output_type": "stream",
     "text": [
      "Test loss: 2.29482364654541\n",
      "Test accuracy: 0.14710000157356262\n"
     ]
    }
   ],
   "source": [
    "# Accuracy iniziale\n",
    "\n",
    "score = model.evaluate(x_test, y_test, verbose=0)\n",
    "print(\"Test loss:\", score[0])\n",
    "print(\"Test accuracy:\", score[1])"
   ]
  },
  {
   "cell_type": "code",
   "execution_count": 5,
   "metadata": {},
   "outputs": [],
   "source": [
    "# Se hai già salvato il modello, caricalo.\n",
    "# Altrimenti, addestra il modello e poi salvalo\n",
    "\n",
    "try:\n",
    "    model = keras.models.load_model('mnist_model')\n",
    "except:\n",
    "    model.fit(x_train, y_train, batch_size=batch_size, epochs=epochs, validation_split=0.1)\n",
    "    model.save('mnist_model')"
   ]
  },
  {
   "cell_type": "code",
   "execution_count": 6,
   "metadata": {},
   "outputs": [
    {
     "name": "stdout",
     "output_type": "stream",
     "text": [
      "Test loss: 0.02450031042098999\n",
      "Test accuracy: 0.9909999966621399\n"
     ]
    }
   ],
   "source": [
    "score = model.evaluate(x_test, y_test, verbose=0)\n",
    "print(\"Test loss:\", score[0])\n",
    "print(\"Test accuracy:\", score[1])"
   ]
  },
  {
   "cell_type": "code",
   "execution_count": 7,
   "metadata": {},
   "outputs": [],
   "source": [
    "def get_prediction(model, data):\n",
    "    predictions = model.predict(data.reshape((1,28,28,1)))\n",
    "    # print(predictions[0])\n",
    "    print( np.where(predictions[0] == max(predictions[0]))[0][0] )\n",
    "    # plt.imshow(data, cmap='gray')\n",
    "\n",
    "def load_and_normalize_data():\n",
    "    image = Image.open('image.png').convert('L').resize((28,28))\n",
    "    data = np.asarray(image)\n",
    "    data = data.astype(\"float32\") / 255\n",
    "    return data\n",
    "\n",
    "def get_label(model, inverse=False):\n",
    "    data = load_and_normalize_data()\n",
    "    if inverse:\n",
    "        data = 1-data\n",
    "    get_prediction(model, data)\n"
   ]
  },
  {
   "cell_type": "code",
   "execution_count": 8,
   "metadata": {},
   "outputs": [],
   "source": [
    "import sys\n",
    "from PyQt5.QtCore import *\n",
    "from PyQt5.QtGui import *\n",
    "from PyQt5.QtWidgets import *\n",
    "\n",
    "\n",
    "class Drawer(QWidget):\n",
    "    def __init__(self, parent=None):\n",
    "        QWidget.__init__(self, parent)\n",
    "        self.setAttribute(Qt.WA_StaticContents)\n",
    "        h = 280\n",
    "        w = 280\n",
    "        self.myPenWidth = 30\n",
    "        self.myPenColor = Qt.black\n",
    "        self.image = QImage(w, h, QImage.Format_RGB32)\n",
    "        self.path = QPainterPath()\n",
    "        self.clearImage()\n",
    "\n",
    "    def setPenColor(self, newColor):\n",
    "        self.myPenColor = newColor\n",
    "\n",
    "    def setPenWidth(self, newWidth):\n",
    "        self.myPenWidth = newWidth\n",
    "\n",
    "    def clearImage(self):\n",
    "        self.path = QPainterPath()\n",
    "        self.image.fill(Qt.white)  ## switch it to else\n",
    "        self.update()\n",
    "\n",
    "    def saveImage(self, fileName, fileFormat):\n",
    "        self.image.save(fileName, fileFormat)\n",
    "\n",
    "    def paintEvent(self, event):\n",
    "        painter = QPainter(self)\n",
    "        painter.drawImage(event.rect(), self.image, self.rect())\n",
    "\n",
    "    def mousePressEvent(self, event):\n",
    "        self.path.moveTo(event.pos())\n",
    "\n",
    "    def mouseMoveEvent(self, event):\n",
    "        self.path.lineTo(event.pos())\n",
    "        p = QPainter(self.image)\n",
    "        p.setPen(QPen(self.myPenColor,\n",
    "                      self.myPenWidth, Qt.SolidLine, Qt.RoundCap,\n",
    "                      Qt.RoundJoin))\n",
    "        p.drawPath(self.path)\n",
    "        p.end()\n",
    "        self.update()\n",
    "\n",
    "    def sizeHint(self):\n",
    "        return QSize(300, 300)\n"
   ]
  },
  {
   "cell_type": "code",
   "execution_count": 9,
   "metadata": {},
   "outputs": [
    {
     "name": "stdout",
     "output_type": "stream",
     "text": [
      "1/1 [==============================] - 0s 53ms/step\n",
      "0\n",
      "1/1 [==============================] - 0s 12ms/step\n",
      "9\n",
      "1/1 [==============================] - 0s 13ms/step\n",
      "8\n",
      "1/1 [==============================] - 0s 13ms/step\n",
      "7\n",
      "1/1 [==============================] - 0s 13ms/step\n",
      "5\n",
      "1/1 [==============================] - 0s 11ms/step\n",
      "6\n",
      "1/1 [==============================] - 0s 12ms/step\n",
      "8\n",
      "1/1 [==============================] - 0s 13ms/step\n",
      "9\n"
     ]
    },
    {
     "data": {
      "text/plain": [
       "0"
      ]
     },
     "execution_count": 9,
     "metadata": {},
     "output_type": "execute_result"
    }
   ],
   "source": [
    "# if __name__ == '__main__':\n",
    "app = QApplication([]) #sys.argv\n",
    "w = QWidget()\n",
    "btnSave = QPushButton(\"Save image\")\n",
    "btnClear = QPushButton(\"Clear\")\n",
    "# btnGetLabel = QPushButton(\"Get label\")\n",
    "# btnGetLabelInverse = QPushButton(\"Get label inverse image\")\n",
    "btnGetLabelInverse = QPushButton(\"Get label\")\n",
    "drawer = Drawer()\n",
    "\n",
    "w.setLayout(QVBoxLayout())\n",
    "w.layout().addWidget(btnSave)\n",
    "# w.layout().addWidget(btnGetLabel)\n",
    "w.layout().addWidget(btnGetLabelInverse)\n",
    "w.layout().addWidget(btnClear)\n",
    "w.layout().addWidget(drawer)\n",
    "\n",
    "\n",
    "btnSave.clicked.connect(lambda: drawer.saveImage(\"image.png\", \"PNG\"))\n",
    "#btnGetLabel.clicked.connect(lambda: get_label(model))\n",
    "btnGetLabelInverse.clicked.connect(lambda: get_label(model, inverse=True))\n",
    "btnClear.clicked.connect(drawer.clearImage)\n",
    "\n",
    "w.show()\n",
    "app.exec_()\n",
    "# sys.exit(app.exec_())"
   ]
  }
 ],
 "metadata": {
  "kernelspec": {
   "display_name": "Python 3 (ipykernel)",
   "language": "python",
   "name": "python3"
  },
  "language_info": {
   "codemirror_mode": {
    "name": "ipython",
    "version": 3
   },
   "file_extension": ".py",
   "mimetype": "text/x-python",
   "name": "python",
   "nbconvert_exporter": "python",
   "pygments_lexer": "ipython3",
   "version": "3.9.6"
  },
  "vscode": {
   "interpreter": {
    "hash": "c4eea9f8f7db83568a7e9e085700985a221d1472a811355be3c83074e0c76b94"
   }
  }
 },
 "nbformat": 4,
 "nbformat_minor": 2
}
